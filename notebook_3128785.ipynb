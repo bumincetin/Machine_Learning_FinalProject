{
 "cells": [
  {
   "cell_type": "markdown",
   "id": "cae00a5f",
   "metadata": {},
   "source": [
    "# BUMİN KAĞAN ÇETİN 3128785 MACHINE LEARNING PROJECT\n",
    "\n",
    "DESCRIPTION ----\n",
    "\n",
    "This dataset is composed of 1000 samples with 30 features each. The first column\n",
    "is the sample id. The second column in the dataset represents the label. There\n",
    "are 3 possible values for the labels. The remaining columns are numeric\n",
    "features.\n",
    "\n",
    "Your task is the following: you should compare the performance of a Support-\n",
    "Vector Machine (implemented by sklearn.svm.LinearSVC) with that of a Random\n",
    "Forest (implemented by sklearn.ensemble.RandomForestClassifier). Try to optimize\n",
    "both algorithms' parameters and determine which one is best for this dataset. At\n",
    "the end of the analysis, you should have chosen an algorithm and its optimal set\n",
    "of parameters: write this choice explicitly in the conclusions of your notebook.\n",
    "\n",
    "Your notebook should detail the procedure you have used to choose the optimal\n",
    "parameters (graphs are a good idea when possible/sensible).\n",
    "\n",
    "The notebook will be evaluated not only based on the final results, but also on\n",
    "the procedure employed, which should balance practical considerations (one may\n",
    "not be able to exhaustively explore all possible combinations of the parameters)\n",
    "with the desire for achieving the best possible performance in the least amount\n",
    "of time.\n",
    "\n",
    "Bonus points may be assigned for particularly clean/nifty code and/or well-\n",
    "presented results.\n",
    "\n",
    "You are also free to attempt other strategies beyond the one in the assignment\n",
    "(which however is mandatory!)."
   ]
  },
  {
   "cell_type": "code",
   "execution_count": 11,
   "id": "d4dc2e95",
   "metadata": {},
   "outputs": [],
   "source": [
    "#importing some of the relevant libraries\n",
    "\n",
    "import pandas as pd\n",
    "import numpy as np\n",
    "from sklearn.model_selection import train_test_split\n",
    "from sklearn.metrics import classification_report\n",
    "import time\n",
    "\n",
    "start_time = time.time() #I start measuring the time it takes for my code to evaluate how much I can further improve my code "
   ]
  },
  {
   "cell_type": "code",
   "execution_count": 12,
   "id": "d6d3ce0b",
   "metadata": {},
   "outputs": [
    {
     "data": {
      "text/html": [
       "<div>\n",
       "<style scoped>\n",
       "    .dataframe tbody tr th:only-of-type {\n",
       "        vertical-align: middle;\n",
       "    }\n",
       "\n",
       "    .dataframe tbody tr th {\n",
       "        vertical-align: top;\n",
       "    }\n",
       "\n",
       "    .dataframe thead th {\n",
       "        text-align: right;\n",
       "    }\n",
       "</style>\n",
       "<table border=\"1\" class=\"dataframe\">\n",
       "  <thead>\n",
       "    <tr style=\"text-align: right;\">\n",
       "      <th></th>\n",
       "      <th>Unnamed: 0</th>\n",
       "      <th>label</th>\n",
       "      <th>feature_1</th>\n",
       "      <th>feature_2</th>\n",
       "      <th>feature_3</th>\n",
       "      <th>feature_4</th>\n",
       "      <th>feature_5</th>\n",
       "      <th>feature_6</th>\n",
       "      <th>feature_7</th>\n",
       "      <th>feature_8</th>\n",
       "      <th>...</th>\n",
       "      <th>feature_21</th>\n",
       "      <th>feature_22</th>\n",
       "      <th>feature_23</th>\n",
       "      <th>feature_24</th>\n",
       "      <th>feature_25</th>\n",
       "      <th>feature_26</th>\n",
       "      <th>feature_27</th>\n",
       "      <th>feature_28</th>\n",
       "      <th>feature_29</th>\n",
       "      <th>feature_30</th>\n",
       "    </tr>\n",
       "  </thead>\n",
       "  <tbody>\n",
       "    <tr>\n",
       "      <th>0</th>\n",
       "      <td>0</td>\n",
       "      <td>2</td>\n",
       "      <td>0.319464</td>\n",
       "      <td>-1.177577</td>\n",
       "      <td>-1.593623</td>\n",
       "      <td>-0.164374</td>\n",
       "      <td>-1.469506</td>\n",
       "      <td>-0.383140</td>\n",
       "      <td>1.151623</td>\n",
       "      <td>1.172442</td>\n",
       "      <td>...</td>\n",
       "      <td>-1.469506</td>\n",
       "      <td>0.823956</td>\n",
       "      <td>0.450095</td>\n",
       "      <td>-0.013027</td>\n",
       "      <td>0.247483</td>\n",
       "      <td>-1.222473</td>\n",
       "      <td>1.168376</td>\n",
       "      <td>0.607972</td>\n",
       "      <td>0.574189</td>\n",
       "      <td>-0.160841</td>\n",
       "    </tr>\n",
       "    <tr>\n",
       "      <th>1</th>\n",
       "      <td>1</td>\n",
       "      <td>0</td>\n",
       "      <td>-2.027124</td>\n",
       "      <td>0.199568</td>\n",
       "      <td>1.970646</td>\n",
       "      <td>1.146400</td>\n",
       "      <td>0.344652</td>\n",
       "      <td>0.454211</td>\n",
       "      <td>0.199387</td>\n",
       "      <td>-0.442092</td>\n",
       "      <td>...</td>\n",
       "      <td>0.344652</td>\n",
       "      <td>0.803195</td>\n",
       "      <td>0.706193</td>\n",
       "      <td>0.466416</td>\n",
       "      <td>0.429637</td>\n",
       "      <td>0.070651</td>\n",
       "      <td>2.762511</td>\n",
       "      <td>-0.474402</td>\n",
       "      <td>3.447011</td>\n",
       "      <td>1.470679</td>\n",
       "    </tr>\n",
       "    <tr>\n",
       "      <th>2</th>\n",
       "      <td>2</td>\n",
       "      <td>2</td>\n",
       "      <td>1.185738</td>\n",
       "      <td>-2.743891</td>\n",
       "      <td>-2.109143</td>\n",
       "      <td>-0.335438</td>\n",
       "      <td>-1.333614</td>\n",
       "      <td>0.299884</td>\n",
       "      <td>1.500342</td>\n",
       "      <td>-0.089110</td>\n",
       "      <td>...</td>\n",
       "      <td>-1.333614</td>\n",
       "      <td>0.761581</td>\n",
       "      <td>-0.156411</td>\n",
       "      <td>0.575707</td>\n",
       "      <td>-0.218190</td>\n",
       "      <td>1.209016</td>\n",
       "      <td>0.392050</td>\n",
       "      <td>-1.095556</td>\n",
       "      <td>0.038650</td>\n",
       "      <td>-0.076550</td>\n",
       "    </tr>\n",
       "    <tr>\n",
       "      <th>3</th>\n",
       "      <td>3</td>\n",
       "      <td>1</td>\n",
       "      <td>-0.362543</td>\n",
       "      <td>-3.917672</td>\n",
       "      <td>-0.985080</td>\n",
       "      <td>0.950043</td>\n",
       "      <td>-4.133465</td>\n",
       "      <td>1.167349</td>\n",
       "      <td>0.714509</td>\n",
       "      <td>0.330346</td>\n",
       "      <td>...</td>\n",
       "      <td>-4.133465</td>\n",
       "      <td>-0.287202</td>\n",
       "      <td>0.522918</td>\n",
       "      <td>0.250201</td>\n",
       "      <td>-0.585323</td>\n",
       "      <td>-2.177589</td>\n",
       "      <td>-0.214211</td>\n",
       "      <td>-0.775195</td>\n",
       "      <td>3.480752</td>\n",
       "      <td>-0.193634</td>\n",
       "    </tr>\n",
       "    <tr>\n",
       "      <th>4</th>\n",
       "      <td>4</td>\n",
       "      <td>2</td>\n",
       "      <td>0.246926</td>\n",
       "      <td>-0.114464</td>\n",
       "      <td>2.765900</td>\n",
       "      <td>1.400277</td>\n",
       "      <td>0.187917</td>\n",
       "      <td>-0.788065</td>\n",
       "      <td>1.758315</td>\n",
       "      <td>-0.567783</td>\n",
       "      <td>...</td>\n",
       "      <td>0.187917</td>\n",
       "      <td>0.009190</td>\n",
       "      <td>-0.560612</td>\n",
       "      <td>-0.299220</td>\n",
       "      <td>-0.822967</td>\n",
       "      <td>-0.131734</td>\n",
       "      <td>0.199559</td>\n",
       "      <td>0.856419</td>\n",
       "      <td>-1.754675</td>\n",
       "      <td>5.329163</td>\n",
       "    </tr>\n",
       "    <tr>\n",
       "      <th>5</th>\n",
       "      <td>5</td>\n",
       "      <td>0</td>\n",
       "      <td>-0.203283</td>\n",
       "      <td>-0.207301</td>\n",
       "      <td>2.561853</td>\n",
       "      <td>-1.778584</td>\n",
       "      <td>1.473254</td>\n",
       "      <td>-0.721459</td>\n",
       "      <td>-0.524057</td>\n",
       "      <td>0.962013</td>\n",
       "      <td>...</td>\n",
       "      <td>1.473254</td>\n",
       "      <td>-0.085583</td>\n",
       "      <td>-0.162413</td>\n",
       "      <td>-0.478596</td>\n",
       "      <td>-0.292862</td>\n",
       "      <td>-0.687270</td>\n",
       "      <td>-0.062224</td>\n",
       "      <td>1.829560</td>\n",
       "      <td>-1.149700</td>\n",
       "      <td>-1.721763</td>\n",
       "    </tr>\n",
       "    <tr>\n",
       "      <th>6</th>\n",
       "      <td>6</td>\n",
       "      <td>1</td>\n",
       "      <td>-2.252601</td>\n",
       "      <td>-1.185303</td>\n",
       "      <td>-1.683359</td>\n",
       "      <td>0.436008</td>\n",
       "      <td>-1.951988</td>\n",
       "      <td>-1.495870</td>\n",
       "      <td>0.443065</td>\n",
       "      <td>2.421610</td>\n",
       "      <td>...</td>\n",
       "      <td>-1.951988</td>\n",
       "      <td>1.108829</td>\n",
       "      <td>-0.880836</td>\n",
       "      <td>0.373057</td>\n",
       "      <td>0.588445</td>\n",
       "      <td>-1.067123</td>\n",
       "      <td>0.503900</td>\n",
       "      <td>-0.079612</td>\n",
       "      <td>-5.120304</td>\n",
       "      <td>6.213706</td>\n",
       "    </tr>\n",
       "    <tr>\n",
       "      <th>7</th>\n",
       "      <td>7</td>\n",
       "      <td>2</td>\n",
       "      <td>0.531746</td>\n",
       "      <td>-0.608035</td>\n",
       "      <td>-2.439830</td>\n",
       "      <td>2.051423</td>\n",
       "      <td>-0.151138</td>\n",
       "      <td>-1.447613</td>\n",
       "      <td>-2.153115</td>\n",
       "      <td>-1.684537</td>\n",
       "      <td>...</td>\n",
       "      <td>-0.151138</td>\n",
       "      <td>-0.087412</td>\n",
       "      <td>-0.533995</td>\n",
       "      <td>1.259073</td>\n",
       "      <td>0.298055</td>\n",
       "      <td>-0.405859</td>\n",
       "      <td>1.811476</td>\n",
       "      <td>-2.311418</td>\n",
       "      <td>-4.250710</td>\n",
       "      <td>4.620650</td>\n",
       "    </tr>\n",
       "    <tr>\n",
       "      <th>8</th>\n",
       "      <td>8</td>\n",
       "      <td>2</td>\n",
       "      <td>-0.482255</td>\n",
       "      <td>-2.326329</td>\n",
       "      <td>-0.620424</td>\n",
       "      <td>1.804502</td>\n",
       "      <td>-1.175000</td>\n",
       "      <td>0.337116</td>\n",
       "      <td>-0.013467</td>\n",
       "      <td>-0.523706</td>\n",
       "      <td>...</td>\n",
       "      <td>-1.175000</td>\n",
       "      <td>0.641196</td>\n",
       "      <td>0.126834</td>\n",
       "      <td>-1.402866</td>\n",
       "      <td>0.503003</td>\n",
       "      <td>-0.506131</td>\n",
       "      <td>1.780878</td>\n",
       "      <td>1.156384</td>\n",
       "      <td>0.661142</td>\n",
       "      <td>5.359189</td>\n",
       "    </tr>\n",
       "    <tr>\n",
       "      <th>9</th>\n",
       "      <td>9</td>\n",
       "      <td>2</td>\n",
       "      <td>-2.022322</td>\n",
       "      <td>-0.545790</td>\n",
       "      <td>-1.350792</td>\n",
       "      <td>1.292113</td>\n",
       "      <td>-2.574619</td>\n",
       "      <td>0.505346</td>\n",
       "      <td>1.013889</td>\n",
       "      <td>0.111736</td>\n",
       "      <td>...</td>\n",
       "      <td>-2.574619</td>\n",
       "      <td>-0.032152</td>\n",
       "      <td>-1.906381</td>\n",
       "      <td>0.053999</td>\n",
       "      <td>0.270222</td>\n",
       "      <td>-0.716175</td>\n",
       "      <td>0.320396</td>\n",
       "      <td>-2.077989</td>\n",
       "      <td>1.003213</td>\n",
       "      <td>2.565052</td>\n",
       "    </tr>\n",
       "  </tbody>\n",
       "</table>\n",
       "<p>10 rows × 32 columns</p>\n",
       "</div>"
      ],
      "text/plain": [
       "   Unnamed: 0  label  feature_1  feature_2  feature_3  feature_4  feature_5  \\\n",
       "0           0      2   0.319464  -1.177577  -1.593623  -0.164374  -1.469506   \n",
       "1           1      0  -2.027124   0.199568   1.970646   1.146400   0.344652   \n",
       "2           2      2   1.185738  -2.743891  -2.109143  -0.335438  -1.333614   \n",
       "3           3      1  -0.362543  -3.917672  -0.985080   0.950043  -4.133465   \n",
       "4           4      2   0.246926  -0.114464   2.765900   1.400277   0.187917   \n",
       "5           5      0  -0.203283  -0.207301   2.561853  -1.778584   1.473254   \n",
       "6           6      1  -2.252601  -1.185303  -1.683359   0.436008  -1.951988   \n",
       "7           7      2   0.531746  -0.608035  -2.439830   2.051423  -0.151138   \n",
       "8           8      2  -0.482255  -2.326329  -0.620424   1.804502  -1.175000   \n",
       "9           9      2  -2.022322  -0.545790  -1.350792   1.292113  -2.574619   \n",
       "\n",
       "   feature_6  feature_7  feature_8  ...  feature_21  feature_22  feature_23  \\\n",
       "0  -0.383140   1.151623   1.172442  ...   -1.469506    0.823956    0.450095   \n",
       "1   0.454211   0.199387  -0.442092  ...    0.344652    0.803195    0.706193   \n",
       "2   0.299884   1.500342  -0.089110  ...   -1.333614    0.761581   -0.156411   \n",
       "3   1.167349   0.714509   0.330346  ...   -4.133465   -0.287202    0.522918   \n",
       "4  -0.788065   1.758315  -0.567783  ...    0.187917    0.009190   -0.560612   \n",
       "5  -0.721459  -0.524057   0.962013  ...    1.473254   -0.085583   -0.162413   \n",
       "6  -1.495870   0.443065   2.421610  ...   -1.951988    1.108829   -0.880836   \n",
       "7  -1.447613  -2.153115  -1.684537  ...   -0.151138   -0.087412   -0.533995   \n",
       "8   0.337116  -0.013467  -0.523706  ...   -1.175000    0.641196    0.126834   \n",
       "9   0.505346   1.013889   0.111736  ...   -2.574619   -0.032152   -1.906381   \n",
       "\n",
       "   feature_24  feature_25  feature_26  feature_27  feature_28  feature_29  \\\n",
       "0   -0.013027    0.247483   -1.222473    1.168376    0.607972    0.574189   \n",
       "1    0.466416    0.429637    0.070651    2.762511   -0.474402    3.447011   \n",
       "2    0.575707   -0.218190    1.209016    0.392050   -1.095556    0.038650   \n",
       "3    0.250201   -0.585323   -2.177589   -0.214211   -0.775195    3.480752   \n",
       "4   -0.299220   -0.822967   -0.131734    0.199559    0.856419   -1.754675   \n",
       "5   -0.478596   -0.292862   -0.687270   -0.062224    1.829560   -1.149700   \n",
       "6    0.373057    0.588445   -1.067123    0.503900   -0.079612   -5.120304   \n",
       "7    1.259073    0.298055   -0.405859    1.811476   -2.311418   -4.250710   \n",
       "8   -1.402866    0.503003   -0.506131    1.780878    1.156384    0.661142   \n",
       "9    0.053999    0.270222   -0.716175    0.320396   -2.077989    1.003213   \n",
       "\n",
       "   feature_30  \n",
       "0   -0.160841  \n",
       "1    1.470679  \n",
       "2   -0.076550  \n",
       "3   -0.193634  \n",
       "4    5.329163  \n",
       "5   -1.721763  \n",
       "6    6.213706  \n",
       "7    4.620650  \n",
       "8    5.359189  \n",
       "9    2.565052  \n",
       "\n",
       "[10 rows x 32 columns]"
      ]
     },
     "execution_count": 12,
     "metadata": {},
     "output_type": "execute_result"
    }
   ],
   "source": [
    "df = pd.read_csv('mldata_0013128785.csv', sep=',') #uploading the dataset and taking a glance at the types of the data in it\n",
    "df.head(10)"
   ]
  },
  {
   "cell_type": "code",
   "execution_count": 13,
   "id": "27e67164",
   "metadata": {},
   "outputs": [],
   "source": [
    "# Setting the feature space and corresponding labels\n",
    "\n",
    "X = [] # features\n",
    "y = [] # labels\n",
    "\n",
    "for i in range(1000):\n",
    "    tmp_row = df.iloc[i]\n",
    "    arr = tmp_row.tolist()\n",
    "    X.append(arr[2:])\n",
    "    y.append(arr[1])\n",
    "\n",
    "x_train, x_test, y_train, y_test = train_test_split(X, y, test_size = 0.2, random_state = 0) #after trying a couple of various\n",
    "                                                                                             # values of test_size, I decided to\n",
    "                                                                                             # have 0.2 as the best value so far"
   ]
  },
  {
   "cell_type": "markdown",
   "id": "ba61af8e",
   "metadata": {},
   "source": [
    "#### NOW IT'S TIME TO START BUILDING OUR FIRST MODEL: SVC"
   ]
  },
  {
   "cell_type": "code",
   "execution_count": 14,
   "id": "dd9a6958",
   "metadata": {},
   "outputs": [],
   "source": [
    "#Linear SVM by randomly leaving the parameters in the default mode\n",
    "\n",
    "from sklearn.svm import LinearSVC\n",
    "from sklearn.pipeline import make_pipeline\n",
    "from sklearn.preprocessing import StandardScaler\n",
    "from sklearn import metrics\n",
    "\n",
    "mach = make_pipeline(StandardScaler(),\n",
    "                     LinearSVC(max_iter = 5000, random_state=0))\n",
    "mach.fit(x_train, y_train)\n",
    "y_pred = mach.predict(x_test)"
   ]
  },
  {
   "cell_type": "code",
   "execution_count": 15,
   "id": "62c0c87a",
   "metadata": {},
   "outputs": [
    {
     "name": "stdout",
     "output_type": "stream",
     "text": [
      "0.635\n",
      "              precision    recall  f1-score   support\n",
      "\n",
      "         0.0       0.74      0.70      0.72        71\n",
      "         1.0       0.63      0.54      0.58        67\n",
      "         2.0       0.55      0.66      0.60        62\n",
      "\n",
      "    accuracy                           0.64       200\n",
      "   macro avg       0.64      0.63      0.63       200\n",
      "weighted avg       0.64      0.64      0.64       200\n",
      "\n"
     ]
    }
   ],
   "source": [
    "print(metrics.accuracy_score(y_test, y_pred))\n",
    "print(classification_report(y_test, y_pred))\n",
    "                                       #after careful implementation of sklearn, I check the classification scores to see \n",
    "                                       #how well the algorithm has performed"
   ]
  },
  {
   "cell_type": "markdown",
   "id": "b6970e33",
   "metadata": {},
   "source": [
    "#### NOW IT'S TIME TO START BUILDING OUR SECOND MODEL: RANDOM FOREST"
   ]
  },
  {
   "cell_type": "code",
   "execution_count": 16,
   "id": "e86d839f",
   "metadata": {},
   "outputs": [
    {
     "data": {
      "text/plain": [
       "RandomForestClassifier(random_state=0)"
      ]
     },
     "execution_count": 16,
     "metadata": {},
     "output_type": "execute_result"
    }
   ],
   "source": [
    "#RF by randomly choosing the parameters\n",
    "from sklearn.ensemble import RandomForestClassifier\n",
    "rf = RandomForestClassifier(n_estimators = 100, random_state = 0) \n",
    "rf.fit(x_train, y_train)"
   ]
  },
  {
   "cell_type": "code",
   "execution_count": 17,
   "id": "7a4a63b4",
   "metadata": {},
   "outputs": [
    {
     "name": "stdout",
     "output_type": "stream",
     "text": [
      "0.795\n",
      "              precision    recall  f1-score   support\n",
      "\n",
      "         0.0       0.81      0.76      0.78        71\n",
      "         1.0       0.82      0.81      0.81        67\n",
      "         2.0       0.76      0.82      0.79        62\n",
      "\n",
      "    accuracy                           0.80       200\n",
      "   macro avg       0.80      0.80      0.80       200\n",
      "weighted avg       0.80      0.80      0.79       200\n",
      "\n"
     ]
    }
   ],
   "source": [
    "y_pred = rf.predict(x_test)\n",
    "print(metrics.accuracy_score(y_test, y_pred))\n",
    "print(classification_report(y_test, y_pred))\n",
    "                                        #after careful implementation of sklearn, I check the classification scores to see \n",
    "                                        #how well the algorithm has performed"
   ]
  },
  {
   "cell_type": "markdown",
   "id": "238327a7",
   "metadata": {},
   "source": [
    "###### WE SAW HOW THE ALGORITHMS ARE PERFORMING. NOW IT IS TIME TO TRY TO OPTIMIZE THE PARAMETERS AND HOPEFULLY OBTAIN HIGHER CLASSIFICATION SCORES, STARTING WITH RANDOM FOREST ALGORITHM:"
   ]
  },
  {
   "cell_type": "code",
   "execution_count": 18,
   "id": "943a57f5",
   "metadata": {},
   "outputs": [],
   "source": [
    "#After implementing the algorithms, I try to optimize the parameters by randomized search cv\n",
    "\n",
    "n_estimators = [x for x in range(50, 101)]                  # number of trees in the random forest\n",
    "max_features = ['auto', 'sqrt']                             # number of features in consideration at every split\n",
    "max_depth = [int(x) for x in np.linspace(10, 120, num = 12)]# maximum number of levels allowed in each decision tree\n",
    "min_samples_split = [2*x for x in range(1,6)]               # minimum sample number to split a node\n",
    "min_samples_leaf = [1, 3, 4]                                # minimum sample number that can be stored in a leaf node\n",
    "bootstrap = [True, False]                                   # method used to sample data points\n",
    "\n",
    "random_grid =  {'n_estimators': n_estimators,\n",
    "\n",
    "                'max_features': max_features,\n",
    "\n",
    "                'max_depth': max_depth,\n",
    "\n",
    "                'min_samples_split': min_samples_split,\n",
    "\n",
    "                'min_samples_leaf': min_samples_leaf,\n",
    "\n",
    "                'bootstrap': bootstrap}"
   ]
  },
  {
   "cell_type": "code",
   "execution_count": 19,
   "id": "ed31c84a",
   "metadata": {},
   "outputs": [
    {
     "name": "stdout",
     "output_type": "stream",
     "text": [
      "Fitting 5 folds for each of 100 candidates, totalling 500 fits\n"
     ]
    },
    {
     "data": {
      "text/plain": [
       "RandomizedSearchCV(cv=5, estimator=RandomForestClassifier(random_state=0),\n",
       "                   n_iter=100, n_jobs=-1,\n",
       "                   param_distributions={'bootstrap': [True, False],\n",
       "                                        'max_depth': [10, 20, 30, 40, 50, 60,\n",
       "                                                      70, 80, 90, 100, 110,\n",
       "                                                      120],\n",
       "                                        'max_features': ['auto', 'sqrt'],\n",
       "                                        'min_samples_leaf': [1, 3, 4],\n",
       "                                        'min_samples_split': [2, 4, 6, 8, 10],\n",
       "                                        'n_estimators': [50, 51, 52, 53, 54, 55,\n",
       "                                                         56, 57, 58, 59, 60, 61,\n",
       "                                                         62, 63, 64, 65, 66, 67,\n",
       "                                                         68, 69, 70, 71, 72, 73,\n",
       "                                                         74, 75, 76, 77, 78, 79, ...]},\n",
       "                   random_state=0, scoring='accuracy', verbose=2)"
      ]
     },
     "execution_count": 19,
     "metadata": {},
     "output_type": "execute_result"
    }
   ],
   "source": [
    "from sklearn.ensemble import RandomForestClassifier\n",
    "from sklearn.model_selection import RandomizedSearchCV\n",
    "\n",
    "rf = RandomForestClassifier(random_state = 0) \n",
    "\n",
    "rf_random = RandomizedSearchCV(estimator = rf,param_distributions = random_grid,\n",
    "               n_iter = 100, cv = 5, scoring = \"accuracy\", verbose=2, random_state=0, n_jobs = -1)\n",
    "rf_random.fit(x_train, y_train)"
   ]
  },
  {
   "cell_type": "code",
   "execution_count": 20,
   "id": "39206d5e",
   "metadata": {},
   "outputs": [
    {
     "name": "stdout",
     "output_type": "stream",
     "text": [
      "Best Parameters for random forest classifier:  {'n_estimators': 99, 'min_samples_split': 4, 'min_samples_leaf': 1, 'max_features': 'auto', 'max_depth': 100, 'bootstrap': False}\n"
     ]
    }
   ],
   "source": [
    "print ('Best Parameters for random forest classifier: ', rf_random.best_params_)"
   ]
  },
  {
   "cell_type": "code",
   "execution_count": 21,
   "id": "e4ad1fa8",
   "metadata": {},
   "outputs": [
    {
     "data": {
      "text/plain": [
       "0.845"
      ]
     },
     "execution_count": 21,
     "metadata": {},
     "output_type": "execute_result"
    }
   ],
   "source": [
    "from sklearn.ensemble import RandomForestClassifier\n",
    "\n",
    "rf_optimal = RandomForestClassifier(n_estimators = 99, max_depth = 100,\n",
    "                                    min_samples_split = 4, min_samples_leaf = 1, \n",
    "                                    max_features = \"auto\", bootstrap = False, random_state = 0) \n",
    "rf_optimal.fit(x_train, y_train)\n",
    "y_pred = rf_optimal.predict(x_test)\n",
    "metrics.accuracy_score(y_test, y_pred) #after careful implementation of sklearn, I check the accuracy score to see how well\n",
    "                                       #the algorithm has performed. I obtain 0.845 as the accuracy score which means that the \n",
    "                                       # algorith performed (0.845 - 0.795)/0.795 = %6.29 better."
   ]
  },
  {
   "cell_type": "markdown",
   "id": "83507515",
   "metadata": {},
   "source": [
    "#### MOVING ONTO THE OPTIMIZATION OF SUPPORT VECTOR MACHINE ALGORTIHM:"
   ]
  },
  {
   "cell_type": "code",
   "execution_count": 22,
   "id": "18ffa154",
   "metadata": {},
   "outputs": [
    {
     "name": "stdout",
     "output_type": "stream",
     "text": [
      "Fitting 5 folds for each of 25 candidates, totalling 125 fits\n",
      "[CV 1/5] END ....................C=0.1, gamma=1;, score=0.544 total time=   0.0s\n",
      "[CV 2/5] END ....................C=0.1, gamma=1;, score=0.600 total time=   0.0s\n",
      "[CV 3/5] END ....................C=0.1, gamma=1;, score=0.619 total time=   0.0s\n",
      "[CV 4/5] END ....................C=0.1, gamma=1;, score=0.631 total time=   0.0s\n",
      "[CV 5/5] END ....................C=0.1, gamma=1;, score=0.525 total time=   0.0s\n",
      "[CV 1/5] END ..................C=0.1, gamma=0.1;, score=0.544 total time=   0.0s\n",
      "[CV 2/5] END ..................C=0.1, gamma=0.1;, score=0.600 total time=   0.0s\n",
      "[CV 3/5] END ..................C=0.1, gamma=0.1;, score=0.619 total time=   0.0s\n",
      "[CV 4/5] END ..................C=0.1, gamma=0.1;, score=0.631 total time=   0.0s\n",
      "[CV 5/5] END ..................C=0.1, gamma=0.1;, score=0.525 total time=   0.0s\n",
      "[CV 1/5] END .................C=0.1, gamma=0.01;, score=0.544 total time=   0.0s\n",
      "[CV 2/5] END .................C=0.1, gamma=0.01;, score=0.600 total time=   0.0s\n",
      "[CV 3/5] END .................C=0.1, gamma=0.01;, score=0.619 total time=   0.0s\n",
      "[CV 4/5] END .................C=0.1, gamma=0.01;, score=0.631 total time=   0.0s\n",
      "[CV 5/5] END .................C=0.1, gamma=0.01;, score=0.525 total time=   0.0s\n",
      "[CV 1/5] END ................C=0.1, gamma=0.001;, score=0.544 total time=   0.0s\n",
      "[CV 2/5] END ................C=0.1, gamma=0.001;, score=0.600 total time=   0.0s\n",
      "[CV 3/5] END ................C=0.1, gamma=0.001;, score=0.619 total time=   0.0s\n",
      "[CV 4/5] END ................C=0.1, gamma=0.001;, score=0.631 total time=   0.0s\n",
      "[CV 5/5] END ................C=0.1, gamma=0.001;, score=0.525 total time=   0.0s\n",
      "[CV 1/5] END ...............C=0.1, gamma=0.0001;, score=0.544 total time=   0.0s\n",
      "[CV 2/5] END ...............C=0.1, gamma=0.0001;, score=0.600 total time=   0.0s\n",
      "[CV 3/5] END ...............C=0.1, gamma=0.0001;, score=0.619 total time=   0.0s\n",
      "[CV 4/5] END ...............C=0.1, gamma=0.0001;, score=0.631 total time=   0.0s\n",
      "[CV 5/5] END ...............C=0.1, gamma=0.0001;, score=0.525 total time=   0.0s\n",
      "[CV 1/5] END ......................C=1, gamma=1;, score=0.562 total time=   0.0s\n",
      "[CV 2/5] END ......................C=1, gamma=1;, score=0.575 total time=   0.0s\n"
     ]
    },
    {
     "name": "stderr",
     "output_type": "stream",
     "text": [
      "C:\\Users\\bumin\\anaconda3\\lib\\site-packages\\sklearn\\svm\\_base.py:255: ConvergenceWarning: Solver terminated early (max_iter=5000).  Consider pre-processing your data with StandardScaler or MinMaxScaler.\n",
      "  warnings.warn('Solver terminated early (max_iter=%i).'\n",
      "C:\\Users\\bumin\\anaconda3\\lib\\site-packages\\sklearn\\svm\\_base.py:255: ConvergenceWarning: Solver terminated early (max_iter=5000).  Consider pre-processing your data with StandardScaler or MinMaxScaler.\n",
      "  warnings.warn('Solver terminated early (max_iter=%i).'\n",
      "C:\\Users\\bumin\\anaconda3\\lib\\site-packages\\sklearn\\svm\\_base.py:255: ConvergenceWarning: Solver terminated early (max_iter=5000).  Consider pre-processing your data with StandardScaler or MinMaxScaler.\n",
      "  warnings.warn('Solver terminated early (max_iter=%i).'\n",
      "C:\\Users\\bumin\\anaconda3\\lib\\site-packages\\sklearn\\svm\\_base.py:255: ConvergenceWarning: Solver terminated early (max_iter=5000).  Consider pre-processing your data with StandardScaler or MinMaxScaler.\n",
      "  warnings.warn('Solver terminated early (max_iter=%i).'\n",
      "C:\\Users\\bumin\\anaconda3\\lib\\site-packages\\sklearn\\svm\\_base.py:255: ConvergenceWarning: Solver terminated early (max_iter=5000).  Consider pre-processing your data with StandardScaler or MinMaxScaler.\n",
      "  warnings.warn('Solver terminated early (max_iter=%i).'\n",
      "C:\\Users\\bumin\\anaconda3\\lib\\site-packages\\sklearn\\svm\\_base.py:255: ConvergenceWarning: Solver terminated early (max_iter=5000).  Consider pre-processing your data with StandardScaler or MinMaxScaler.\n",
      "  warnings.warn('Solver terminated early (max_iter=%i).'\n"
     ]
    },
    {
     "name": "stdout",
     "output_type": "stream",
     "text": [
      "[CV 3/5] END ......................C=1, gamma=1;, score=0.600 total time=   0.0s\n",
      "[CV 4/5] END ......................C=1, gamma=1;, score=0.619 total time=   0.0s\n",
      "[CV 5/5] END ......................C=1, gamma=1;, score=0.544 total time=   0.0s\n",
      "[CV 1/5] END ....................C=1, gamma=0.1;, score=0.562 total time=   0.0s\n",
      "[CV 2/5] END ....................C=1, gamma=0.1;, score=0.575 total time=   0.0s\n"
     ]
    },
    {
     "name": "stderr",
     "output_type": "stream",
     "text": [
      "C:\\Users\\bumin\\anaconda3\\lib\\site-packages\\sklearn\\svm\\_base.py:255: ConvergenceWarning: Solver terminated early (max_iter=5000).  Consider pre-processing your data with StandardScaler or MinMaxScaler.\n",
      "  warnings.warn('Solver terminated early (max_iter=%i).'\n",
      "C:\\Users\\bumin\\anaconda3\\lib\\site-packages\\sklearn\\svm\\_base.py:255: ConvergenceWarning: Solver terminated early (max_iter=5000).  Consider pre-processing your data with StandardScaler or MinMaxScaler.\n",
      "  warnings.warn('Solver terminated early (max_iter=%i).'\n",
      "C:\\Users\\bumin\\anaconda3\\lib\\site-packages\\sklearn\\svm\\_base.py:255: ConvergenceWarning: Solver terminated early (max_iter=5000).  Consider pre-processing your data with StandardScaler or MinMaxScaler.\n",
      "  warnings.warn('Solver terminated early (max_iter=%i).'\n",
      "C:\\Users\\bumin\\anaconda3\\lib\\site-packages\\sklearn\\svm\\_base.py:255: ConvergenceWarning: Solver terminated early (max_iter=5000).  Consider pre-processing your data with StandardScaler or MinMaxScaler.\n",
      "  warnings.warn('Solver terminated early (max_iter=%i).'\n",
      "C:\\Users\\bumin\\anaconda3\\lib\\site-packages\\sklearn\\svm\\_base.py:255: ConvergenceWarning: Solver terminated early (max_iter=5000).  Consider pre-processing your data with StandardScaler or MinMaxScaler.\n",
      "  warnings.warn('Solver terminated early (max_iter=%i).'\n",
      "C:\\Users\\bumin\\anaconda3\\lib\\site-packages\\sklearn\\svm\\_base.py:255: ConvergenceWarning: Solver terminated early (max_iter=5000).  Consider pre-processing your data with StandardScaler or MinMaxScaler.\n",
      "  warnings.warn('Solver terminated early (max_iter=%i).'\n"
     ]
    },
    {
     "name": "stdout",
     "output_type": "stream",
     "text": [
      "[CV 3/5] END ....................C=1, gamma=0.1;, score=0.600 total time=   0.0s\n",
      "[CV 4/5] END ....................C=1, gamma=0.1;, score=0.619 total time=   0.0s\n",
      "[CV 5/5] END ....................C=1, gamma=0.1;, score=0.544 total time=   0.0s\n",
      "[CV 1/5] END ...................C=1, gamma=0.01;, score=0.562 total time=   0.0s\n",
      "[CV 2/5] END ...................C=1, gamma=0.01;, score=0.575 total time=   0.0s\n"
     ]
    },
    {
     "name": "stderr",
     "output_type": "stream",
     "text": [
      "C:\\Users\\bumin\\anaconda3\\lib\\site-packages\\sklearn\\svm\\_base.py:255: ConvergenceWarning: Solver terminated early (max_iter=5000).  Consider pre-processing your data with StandardScaler or MinMaxScaler.\n",
      "  warnings.warn('Solver terminated early (max_iter=%i).'\n",
      "C:\\Users\\bumin\\anaconda3\\lib\\site-packages\\sklearn\\svm\\_base.py:255: ConvergenceWarning: Solver terminated early (max_iter=5000).  Consider pre-processing your data with StandardScaler or MinMaxScaler.\n",
      "  warnings.warn('Solver terminated early (max_iter=%i).'\n",
      "C:\\Users\\bumin\\anaconda3\\lib\\site-packages\\sklearn\\svm\\_base.py:255: ConvergenceWarning: Solver terminated early (max_iter=5000).  Consider pre-processing your data with StandardScaler or MinMaxScaler.\n",
      "  warnings.warn('Solver terminated early (max_iter=%i).'\n",
      "C:\\Users\\bumin\\anaconda3\\lib\\site-packages\\sklearn\\svm\\_base.py:255: ConvergenceWarning: Solver terminated early (max_iter=5000).  Consider pre-processing your data with StandardScaler or MinMaxScaler.\n",
      "  warnings.warn('Solver terminated early (max_iter=%i).'\n",
      "C:\\Users\\bumin\\anaconda3\\lib\\site-packages\\sklearn\\svm\\_base.py:255: ConvergenceWarning: Solver terminated early (max_iter=5000).  Consider pre-processing your data with StandardScaler or MinMaxScaler.\n",
      "  warnings.warn('Solver terminated early (max_iter=%i).'\n",
      "C:\\Users\\bumin\\anaconda3\\lib\\site-packages\\sklearn\\svm\\_base.py:255: ConvergenceWarning: Solver terminated early (max_iter=5000).  Consider pre-processing your data with StandardScaler or MinMaxScaler.\n",
      "  warnings.warn('Solver terminated early (max_iter=%i).'\n"
     ]
    },
    {
     "name": "stdout",
     "output_type": "stream",
     "text": [
      "[CV 3/5] END ...................C=1, gamma=0.01;, score=0.600 total time=   0.0s\n",
      "[CV 4/5] END ...................C=1, gamma=0.01;, score=0.619 total time=   0.0s\n",
      "[CV 5/5] END ...................C=1, gamma=0.01;, score=0.544 total time=   0.0s\n",
      "[CV 1/5] END ..................C=1, gamma=0.001;, score=0.562 total time=   0.0s\n",
      "[CV 2/5] END ..................C=1, gamma=0.001;, score=0.575 total time=   0.0s\n",
      "[CV 3/5] END ..................C=1, gamma=0.001;, score=0.600 total time=   0.0s\n",
      "[CV 4/5] END ..................C=1, gamma=0.001;, score=0.619 total time=   0.0s\n",
      "[CV 5/5] END ..................C=1, gamma=0.001;, score=0.544 total time=   0.0s\n",
      "[CV 1/5] END .................C=1, gamma=0.0001;, score=0.562 total time=   0.0s\n",
      "[CV 2/5] END .................C=1, gamma=0.0001;, score=0.575 total time=   0.0s\n"
     ]
    },
    {
     "name": "stderr",
     "output_type": "stream",
     "text": [
      "C:\\Users\\bumin\\anaconda3\\lib\\site-packages\\sklearn\\svm\\_base.py:255: ConvergenceWarning: Solver terminated early (max_iter=5000).  Consider pre-processing your data with StandardScaler or MinMaxScaler.\n",
      "  warnings.warn('Solver terminated early (max_iter=%i).'\n",
      "C:\\Users\\bumin\\anaconda3\\lib\\site-packages\\sklearn\\svm\\_base.py:255: ConvergenceWarning: Solver terminated early (max_iter=5000).  Consider pre-processing your data with StandardScaler or MinMaxScaler.\n",
      "  warnings.warn('Solver terminated early (max_iter=%i).'\n",
      "C:\\Users\\bumin\\anaconda3\\lib\\site-packages\\sklearn\\svm\\_base.py:255: ConvergenceWarning: Solver terminated early (max_iter=5000).  Consider pre-processing your data with StandardScaler or MinMaxScaler.\n",
      "  warnings.warn('Solver terminated early (max_iter=%i).'\n",
      "C:\\Users\\bumin\\anaconda3\\lib\\site-packages\\sklearn\\svm\\_base.py:255: ConvergenceWarning: Solver terminated early (max_iter=5000).  Consider pre-processing your data with StandardScaler or MinMaxScaler.\n",
      "  warnings.warn('Solver terminated early (max_iter=%i).'\n",
      "C:\\Users\\bumin\\anaconda3\\lib\\site-packages\\sklearn\\svm\\_base.py:255: ConvergenceWarning: Solver terminated early (max_iter=5000).  Consider pre-processing your data with StandardScaler or MinMaxScaler.\n",
      "  warnings.warn('Solver terminated early (max_iter=%i).'\n"
     ]
    },
    {
     "name": "stdout",
     "output_type": "stream",
     "text": [
      "[CV 3/5] END .................C=1, gamma=0.0001;, score=0.600 total time=   0.0s\n",
      "[CV 4/5] END .................C=1, gamma=0.0001;, score=0.619 total time=   0.0s\n",
      "[CV 5/5] END .................C=1, gamma=0.0001;, score=0.544 total time=   0.0s\n",
      "[CV 1/5] END .....................C=10, gamma=1;, score=0.419 total time=   0.0s\n"
     ]
    },
    {
     "name": "stderr",
     "output_type": "stream",
     "text": [
      "C:\\Users\\bumin\\anaconda3\\lib\\site-packages\\sklearn\\svm\\_base.py:255: ConvergenceWarning: Solver terminated early (max_iter=5000).  Consider pre-processing your data with StandardScaler or MinMaxScaler.\n",
      "  warnings.warn('Solver terminated early (max_iter=%i).'\n",
      "C:\\Users\\bumin\\anaconda3\\lib\\site-packages\\sklearn\\svm\\_base.py:255: ConvergenceWarning: Solver terminated early (max_iter=5000).  Consider pre-processing your data with StandardScaler or MinMaxScaler.\n",
      "  warnings.warn('Solver terminated early (max_iter=%i).'\n",
      "C:\\Users\\bumin\\anaconda3\\lib\\site-packages\\sklearn\\svm\\_base.py:255: ConvergenceWarning: Solver terminated early (max_iter=5000).  Consider pre-processing your data with StandardScaler or MinMaxScaler.\n",
      "  warnings.warn('Solver terminated early (max_iter=%i).'\n",
      "C:\\Users\\bumin\\anaconda3\\lib\\site-packages\\sklearn\\svm\\_base.py:255: ConvergenceWarning: Solver terminated early (max_iter=5000).  Consider pre-processing your data with StandardScaler or MinMaxScaler.\n",
      "  warnings.warn('Solver terminated early (max_iter=%i).'\n"
     ]
    },
    {
     "name": "stdout",
     "output_type": "stream",
     "text": [
      "[CV 2/5] END .....................C=10, gamma=1;, score=0.431 total time=   0.0s\n",
      "[CV 3/5] END .....................C=10, gamma=1;, score=0.431 total time=   0.0s\n",
      "[CV 4/5] END .....................C=10, gamma=1;, score=0.487 total time=   0.0s\n",
      "[CV 5/5] END .....................C=10, gamma=1;, score=0.381 total time=   0.0s\n"
     ]
    },
    {
     "name": "stderr",
     "output_type": "stream",
     "text": [
      "C:\\Users\\bumin\\anaconda3\\lib\\site-packages\\sklearn\\svm\\_base.py:255: ConvergenceWarning: Solver terminated early (max_iter=5000).  Consider pre-processing your data with StandardScaler or MinMaxScaler.\n",
      "  warnings.warn('Solver terminated early (max_iter=%i).'\n",
      "C:\\Users\\bumin\\anaconda3\\lib\\site-packages\\sklearn\\svm\\_base.py:255: ConvergenceWarning: Solver terminated early (max_iter=5000).  Consider pre-processing your data with StandardScaler or MinMaxScaler.\n",
      "  warnings.warn('Solver terminated early (max_iter=%i).'\n",
      "C:\\Users\\bumin\\anaconda3\\lib\\site-packages\\sklearn\\svm\\_base.py:255: ConvergenceWarning: Solver terminated early (max_iter=5000).  Consider pre-processing your data with StandardScaler or MinMaxScaler.\n",
      "  warnings.warn('Solver terminated early (max_iter=%i).'\n",
      "C:\\Users\\bumin\\anaconda3\\lib\\site-packages\\sklearn\\svm\\_base.py:255: ConvergenceWarning: Solver terminated early (max_iter=5000).  Consider pre-processing your data with StandardScaler or MinMaxScaler.\n",
      "  warnings.warn('Solver terminated early (max_iter=%i).'\n"
     ]
    },
    {
     "name": "stdout",
     "output_type": "stream",
     "text": [
      "[CV 1/5] END ...................C=10, gamma=0.1;, score=0.419 total time=   0.0s\n",
      "[CV 2/5] END ...................C=10, gamma=0.1;, score=0.431 total time=   0.0s\n",
      "[CV 3/5] END ...................C=10, gamma=0.1;, score=0.431 total time=   0.0s\n"
     ]
    },
    {
     "name": "stderr",
     "output_type": "stream",
     "text": [
      "C:\\Users\\bumin\\anaconda3\\lib\\site-packages\\sklearn\\svm\\_base.py:255: ConvergenceWarning: Solver terminated early (max_iter=5000).  Consider pre-processing your data with StandardScaler or MinMaxScaler.\n",
      "  warnings.warn('Solver terminated early (max_iter=%i).'\n",
      "C:\\Users\\bumin\\anaconda3\\lib\\site-packages\\sklearn\\svm\\_base.py:255: ConvergenceWarning: Solver terminated early (max_iter=5000).  Consider pre-processing your data with StandardScaler or MinMaxScaler.\n",
      "  warnings.warn('Solver terminated early (max_iter=%i).'\n",
      "C:\\Users\\bumin\\anaconda3\\lib\\site-packages\\sklearn\\svm\\_base.py:255: ConvergenceWarning: Solver terminated early (max_iter=5000).  Consider pre-processing your data with StandardScaler or MinMaxScaler.\n",
      "  warnings.warn('Solver terminated early (max_iter=%i).'\n",
      "C:\\Users\\bumin\\anaconda3\\lib\\site-packages\\sklearn\\svm\\_base.py:255: ConvergenceWarning: Solver terminated early (max_iter=5000).  Consider pre-processing your data with StandardScaler or MinMaxScaler.\n",
      "  warnings.warn('Solver terminated early (max_iter=%i).'\n"
     ]
    },
    {
     "name": "stdout",
     "output_type": "stream",
     "text": [
      "[CV 4/5] END ...................C=10, gamma=0.1;, score=0.487 total time=   0.0s\n",
      "[CV 5/5] END ...................C=10, gamma=0.1;, score=0.381 total time=   0.0s\n",
      "[CV 1/5] END ..................C=10, gamma=0.01;, score=0.419 total time=   0.0s\n",
      "[CV 2/5] END ..................C=10, gamma=0.01;, score=0.431 total time=   0.0s\n"
     ]
    },
    {
     "name": "stderr",
     "output_type": "stream",
     "text": [
      "C:\\Users\\bumin\\anaconda3\\lib\\site-packages\\sklearn\\svm\\_base.py:255: ConvergenceWarning: Solver terminated early (max_iter=5000).  Consider pre-processing your data with StandardScaler or MinMaxScaler.\n",
      "  warnings.warn('Solver terminated early (max_iter=%i).'\n",
      "C:\\Users\\bumin\\anaconda3\\lib\\site-packages\\sklearn\\svm\\_base.py:255: ConvergenceWarning: Solver terminated early (max_iter=5000).  Consider pre-processing your data with StandardScaler or MinMaxScaler.\n",
      "  warnings.warn('Solver terminated early (max_iter=%i).'\n",
      "C:\\Users\\bumin\\anaconda3\\lib\\site-packages\\sklearn\\svm\\_base.py:255: ConvergenceWarning: Solver terminated early (max_iter=5000).  Consider pre-processing your data with StandardScaler or MinMaxScaler.\n",
      "  warnings.warn('Solver terminated early (max_iter=%i).'\n",
      "C:\\Users\\bumin\\anaconda3\\lib\\site-packages\\sklearn\\svm\\_base.py:255: ConvergenceWarning: Solver terminated early (max_iter=5000).  Consider pre-processing your data with StandardScaler or MinMaxScaler.\n",
      "  warnings.warn('Solver terminated early (max_iter=%i).'\n"
     ]
    },
    {
     "name": "stdout",
     "output_type": "stream",
     "text": [
      "[CV 3/5] END ..................C=10, gamma=0.01;, score=0.431 total time=   0.0s\n",
      "[CV 4/5] END ..................C=10, gamma=0.01;, score=0.487 total time=   0.0s\n",
      "[CV 5/5] END ..................C=10, gamma=0.01;, score=0.381 total time=   0.0s\n",
      "[CV 1/5] END .................C=10, gamma=0.001;, score=0.419 total time=   0.0s\n"
     ]
    },
    {
     "name": "stderr",
     "output_type": "stream",
     "text": [
      "C:\\Users\\bumin\\anaconda3\\lib\\site-packages\\sklearn\\svm\\_base.py:255: ConvergenceWarning: Solver terminated early (max_iter=5000).  Consider pre-processing your data with StandardScaler or MinMaxScaler.\n",
      "  warnings.warn('Solver terminated early (max_iter=%i).'\n",
      "C:\\Users\\bumin\\anaconda3\\lib\\site-packages\\sklearn\\svm\\_base.py:255: ConvergenceWarning: Solver terminated early (max_iter=5000).  Consider pre-processing your data with StandardScaler or MinMaxScaler.\n",
      "  warnings.warn('Solver terminated early (max_iter=%i).'\n",
      "C:\\Users\\bumin\\anaconda3\\lib\\site-packages\\sklearn\\svm\\_base.py:255: ConvergenceWarning: Solver terminated early (max_iter=5000).  Consider pre-processing your data with StandardScaler or MinMaxScaler.\n",
      "  warnings.warn('Solver terminated early (max_iter=%i).'\n",
      "C:\\Users\\bumin\\anaconda3\\lib\\site-packages\\sklearn\\svm\\_base.py:255: ConvergenceWarning: Solver terminated early (max_iter=5000).  Consider pre-processing your data with StandardScaler or MinMaxScaler.\n",
      "  warnings.warn('Solver terminated early (max_iter=%i).'\n"
     ]
    },
    {
     "name": "stdout",
     "output_type": "stream",
     "text": [
      "[CV 2/5] END .................C=10, gamma=0.001;, score=0.431 total time=   0.0s\n",
      "[CV 3/5] END .................C=10, gamma=0.001;, score=0.431 total time=   0.0s\n",
      "[CV 4/5] END .................C=10, gamma=0.001;, score=0.487 total time=   0.0s\n"
     ]
    },
    {
     "name": "stderr",
     "output_type": "stream",
     "text": [
      "C:\\Users\\bumin\\anaconda3\\lib\\site-packages\\sklearn\\svm\\_base.py:255: ConvergenceWarning: Solver terminated early (max_iter=5000).  Consider pre-processing your data with StandardScaler or MinMaxScaler.\n",
      "  warnings.warn('Solver terminated early (max_iter=%i).'\n",
      "C:\\Users\\bumin\\anaconda3\\lib\\site-packages\\sklearn\\svm\\_base.py:255: ConvergenceWarning: Solver terminated early (max_iter=5000).  Consider pre-processing your data with StandardScaler or MinMaxScaler.\n",
      "  warnings.warn('Solver terminated early (max_iter=%i).'\n",
      "C:\\Users\\bumin\\anaconda3\\lib\\site-packages\\sklearn\\svm\\_base.py:255: ConvergenceWarning: Solver terminated early (max_iter=5000).  Consider pre-processing your data with StandardScaler or MinMaxScaler.\n",
      "  warnings.warn('Solver terminated early (max_iter=%i).'\n"
     ]
    },
    {
     "name": "stdout",
     "output_type": "stream",
     "text": [
      "[CV 5/5] END .................C=10, gamma=0.001;, score=0.381 total time=   0.0s\n",
      "[CV 1/5] END ................C=10, gamma=0.0001;, score=0.419 total time=   0.0s\n"
     ]
    },
    {
     "name": "stderr",
     "output_type": "stream",
     "text": [
      "C:\\Users\\bumin\\anaconda3\\lib\\site-packages\\sklearn\\svm\\_base.py:255: ConvergenceWarning: Solver terminated early (max_iter=5000).  Consider pre-processing your data with StandardScaler or MinMaxScaler.\n",
      "  warnings.warn('Solver terminated early (max_iter=%i).'\n",
      "C:\\Users\\bumin\\anaconda3\\lib\\site-packages\\sklearn\\svm\\_base.py:255: ConvergenceWarning: Solver terminated early (max_iter=5000).  Consider pre-processing your data with StandardScaler or MinMaxScaler.\n",
      "  warnings.warn('Solver terminated early (max_iter=%i).'\n",
      "C:\\Users\\bumin\\anaconda3\\lib\\site-packages\\sklearn\\svm\\_base.py:255: ConvergenceWarning: Solver terminated early (max_iter=5000).  Consider pre-processing your data with StandardScaler or MinMaxScaler.\n",
      "  warnings.warn('Solver terminated early (max_iter=%i).'\n",
      "C:\\Users\\bumin\\anaconda3\\lib\\site-packages\\sklearn\\svm\\_base.py:255: ConvergenceWarning: Solver terminated early (max_iter=5000).  Consider pre-processing your data with StandardScaler or MinMaxScaler.\n",
      "  warnings.warn('Solver terminated early (max_iter=%i).'\n"
     ]
    },
    {
     "name": "stdout",
     "output_type": "stream",
     "text": [
      "[CV 2/5] END ................C=10, gamma=0.0001;, score=0.431 total time=   0.0s\n",
      "[CV 3/5] END ................C=10, gamma=0.0001;, score=0.431 total time=   0.0s\n",
      "[CV 4/5] END ................C=10, gamma=0.0001;, score=0.487 total time=   0.0s\n",
      "[CV 5/5] END ................C=10, gamma=0.0001;, score=0.381 total time=   0.0s\n",
      "[CV 1/5] END ....................C=100, gamma=1;, score=0.394 total time=   0.0s\n",
      "[CV 2/5] END ....................C=100, gamma=1;, score=0.481 total time=   0.0s\n",
      "[CV 3/5] END ....................C=100, gamma=1;, score=0.338 total time=   0.0s\n"
     ]
    },
    {
     "name": "stderr",
     "output_type": "stream",
     "text": [
      "C:\\Users\\bumin\\anaconda3\\lib\\site-packages\\sklearn\\svm\\_base.py:255: ConvergenceWarning: Solver terminated early (max_iter=5000).  Consider pre-processing your data with StandardScaler or MinMaxScaler.\n",
      "  warnings.warn('Solver terminated early (max_iter=%i).'\n",
      "C:\\Users\\bumin\\anaconda3\\lib\\site-packages\\sklearn\\svm\\_base.py:255: ConvergenceWarning: Solver terminated early (max_iter=5000).  Consider pre-processing your data with StandardScaler or MinMaxScaler.\n",
      "  warnings.warn('Solver terminated early (max_iter=%i).'\n",
      "C:\\Users\\bumin\\anaconda3\\lib\\site-packages\\sklearn\\svm\\_base.py:255: ConvergenceWarning: Solver terminated early (max_iter=5000).  Consider pre-processing your data with StandardScaler or MinMaxScaler.\n",
      "  warnings.warn('Solver terminated early (max_iter=%i).'\n",
      "C:\\Users\\bumin\\anaconda3\\lib\\site-packages\\sklearn\\svm\\_base.py:255: ConvergenceWarning: Solver terminated early (max_iter=5000).  Consider pre-processing your data with StandardScaler or MinMaxScaler.\n",
      "  warnings.warn('Solver terminated early (max_iter=%i).'\n"
     ]
    },
    {
     "name": "stdout",
     "output_type": "stream",
     "text": [
      "[CV 4/5] END ....................C=100, gamma=1;, score=0.400 total time=   0.0s\n",
      "[CV 5/5] END ....................C=100, gamma=1;, score=0.306 total time=   0.0s\n",
      "[CV 1/5] END ..................C=100, gamma=0.1;, score=0.394 total time=   0.0s\n"
     ]
    },
    {
     "name": "stderr",
     "output_type": "stream",
     "text": [
      "C:\\Users\\bumin\\anaconda3\\lib\\site-packages\\sklearn\\svm\\_base.py:255: ConvergenceWarning: Solver terminated early (max_iter=5000).  Consider pre-processing your data with StandardScaler or MinMaxScaler.\n",
      "  warnings.warn('Solver terminated early (max_iter=%i).'\n",
      "C:\\Users\\bumin\\anaconda3\\lib\\site-packages\\sklearn\\svm\\_base.py:255: ConvergenceWarning: Solver terminated early (max_iter=5000).  Consider pre-processing your data with StandardScaler or MinMaxScaler.\n",
      "  warnings.warn('Solver terminated early (max_iter=%i).'\n",
      "C:\\Users\\bumin\\anaconda3\\lib\\site-packages\\sklearn\\svm\\_base.py:255: ConvergenceWarning: Solver terminated early (max_iter=5000).  Consider pre-processing your data with StandardScaler or MinMaxScaler.\n",
      "  warnings.warn('Solver terminated early (max_iter=%i).'\n",
      "C:\\Users\\bumin\\anaconda3\\lib\\site-packages\\sklearn\\svm\\_base.py:255: ConvergenceWarning: Solver terminated early (max_iter=5000).  Consider pre-processing your data with StandardScaler or MinMaxScaler.\n",
      "  warnings.warn('Solver terminated early (max_iter=%i).'\n"
     ]
    },
    {
     "name": "stdout",
     "output_type": "stream",
     "text": [
      "[CV 2/5] END ..................C=100, gamma=0.1;, score=0.481 total time=   0.0s\n",
      "[CV 3/5] END ..................C=100, gamma=0.1;, score=0.338 total time=   0.0s\n",
      "[CV 4/5] END ..................C=100, gamma=0.1;, score=0.400 total time=   0.0s\n",
      "[CV 5/5] END ..................C=100, gamma=0.1;, score=0.306 total time=   0.0s\n"
     ]
    },
    {
     "name": "stderr",
     "output_type": "stream",
     "text": [
      "C:\\Users\\bumin\\anaconda3\\lib\\site-packages\\sklearn\\svm\\_base.py:255: ConvergenceWarning: Solver terminated early (max_iter=5000).  Consider pre-processing your data with StandardScaler or MinMaxScaler.\n",
      "  warnings.warn('Solver terminated early (max_iter=%i).'\n",
      "C:\\Users\\bumin\\anaconda3\\lib\\site-packages\\sklearn\\svm\\_base.py:255: ConvergenceWarning: Solver terminated early (max_iter=5000).  Consider pre-processing your data with StandardScaler or MinMaxScaler.\n",
      "  warnings.warn('Solver terminated early (max_iter=%i).'\n",
      "C:\\Users\\bumin\\anaconda3\\lib\\site-packages\\sklearn\\svm\\_base.py:255: ConvergenceWarning: Solver terminated early (max_iter=5000).  Consider pre-processing your data with StandardScaler or MinMaxScaler.\n",
      "  warnings.warn('Solver terminated early (max_iter=%i).'\n",
      "C:\\Users\\bumin\\anaconda3\\lib\\site-packages\\sklearn\\svm\\_base.py:255: ConvergenceWarning: Solver terminated early (max_iter=5000).  Consider pre-processing your data with StandardScaler or MinMaxScaler.\n",
      "  warnings.warn('Solver terminated early (max_iter=%i).'\n"
     ]
    },
    {
     "name": "stdout",
     "output_type": "stream",
     "text": [
      "[CV 1/5] END .................C=100, gamma=0.01;, score=0.394 total time=   0.0s\n",
      "[CV 2/5] END .................C=100, gamma=0.01;, score=0.481 total time=   0.0s\n",
      "[CV 3/5] END .................C=100, gamma=0.01;, score=0.338 total time=   0.0s\n"
     ]
    },
    {
     "name": "stderr",
     "output_type": "stream",
     "text": [
      "C:\\Users\\bumin\\anaconda3\\lib\\site-packages\\sklearn\\svm\\_base.py:255: ConvergenceWarning: Solver terminated early (max_iter=5000).  Consider pre-processing your data with StandardScaler or MinMaxScaler.\n",
      "  warnings.warn('Solver terminated early (max_iter=%i).'\n",
      "C:\\Users\\bumin\\anaconda3\\lib\\site-packages\\sklearn\\svm\\_base.py:255: ConvergenceWarning: Solver terminated early (max_iter=5000).  Consider pre-processing your data with StandardScaler or MinMaxScaler.\n",
      "  warnings.warn('Solver terminated early (max_iter=%i).'\n",
      "C:\\Users\\bumin\\anaconda3\\lib\\site-packages\\sklearn\\svm\\_base.py:255: ConvergenceWarning: Solver terminated early (max_iter=5000).  Consider pre-processing your data with StandardScaler or MinMaxScaler.\n",
      "  warnings.warn('Solver terminated early (max_iter=%i).'\n",
      "C:\\Users\\bumin\\anaconda3\\lib\\site-packages\\sklearn\\svm\\_base.py:255: ConvergenceWarning: Solver terminated early (max_iter=5000).  Consider pre-processing your data with StandardScaler or MinMaxScaler.\n",
      "  warnings.warn('Solver terminated early (max_iter=%i).'\n"
     ]
    },
    {
     "name": "stdout",
     "output_type": "stream",
     "text": [
      "[CV 4/5] END .................C=100, gamma=0.01;, score=0.400 total time=   0.0s\n",
      "[CV 5/5] END .................C=100, gamma=0.01;, score=0.306 total time=   0.0s\n",
      "[CV 1/5] END ................C=100, gamma=0.001;, score=0.394 total time=   0.0s\n",
      "[CV 2/5] END ................C=100, gamma=0.001;, score=0.481 total time=   0.0s\n"
     ]
    },
    {
     "name": "stderr",
     "output_type": "stream",
     "text": [
      "C:\\Users\\bumin\\anaconda3\\lib\\site-packages\\sklearn\\svm\\_base.py:255: ConvergenceWarning: Solver terminated early (max_iter=5000).  Consider pre-processing your data with StandardScaler or MinMaxScaler.\n",
      "  warnings.warn('Solver terminated early (max_iter=%i).'\n",
      "C:\\Users\\bumin\\anaconda3\\lib\\site-packages\\sklearn\\svm\\_base.py:255: ConvergenceWarning: Solver terminated early (max_iter=5000).  Consider pre-processing your data with StandardScaler or MinMaxScaler.\n",
      "  warnings.warn('Solver terminated early (max_iter=%i).'\n",
      "C:\\Users\\bumin\\anaconda3\\lib\\site-packages\\sklearn\\svm\\_base.py:255: ConvergenceWarning: Solver terminated early (max_iter=5000).  Consider pre-processing your data with StandardScaler or MinMaxScaler.\n",
      "  warnings.warn('Solver terminated early (max_iter=%i).'\n",
      "C:\\Users\\bumin\\anaconda3\\lib\\site-packages\\sklearn\\svm\\_base.py:255: ConvergenceWarning: Solver terminated early (max_iter=5000).  Consider pre-processing your data with StandardScaler or MinMaxScaler.\n",
      "  warnings.warn('Solver terminated early (max_iter=%i).'\n"
     ]
    },
    {
     "name": "stdout",
     "output_type": "stream",
     "text": [
      "[CV 3/5] END ................C=100, gamma=0.001;, score=0.338 total time=   0.0s\n",
      "[CV 4/5] END ................C=100, gamma=0.001;, score=0.400 total time=   0.0s\n",
      "[CV 5/5] END ................C=100, gamma=0.001;, score=0.306 total time=   0.0s\n",
      "[CV 1/5] END ...............C=100, gamma=0.0001;, score=0.394 total time=   0.0s\n"
     ]
    },
    {
     "name": "stderr",
     "output_type": "stream",
     "text": [
      "C:\\Users\\bumin\\anaconda3\\lib\\site-packages\\sklearn\\svm\\_base.py:255: ConvergenceWarning: Solver terminated early (max_iter=5000).  Consider pre-processing your data with StandardScaler or MinMaxScaler.\n",
      "  warnings.warn('Solver terminated early (max_iter=%i).'\n",
      "C:\\Users\\bumin\\anaconda3\\lib\\site-packages\\sklearn\\svm\\_base.py:255: ConvergenceWarning: Solver terminated early (max_iter=5000).  Consider pre-processing your data with StandardScaler or MinMaxScaler.\n",
      "  warnings.warn('Solver terminated early (max_iter=%i).'\n",
      "C:\\Users\\bumin\\anaconda3\\lib\\site-packages\\sklearn\\svm\\_base.py:255: ConvergenceWarning: Solver terminated early (max_iter=5000).  Consider pre-processing your data with StandardScaler or MinMaxScaler.\n",
      "  warnings.warn('Solver terminated early (max_iter=%i).'\n",
      "C:\\Users\\bumin\\anaconda3\\lib\\site-packages\\sklearn\\svm\\_base.py:255: ConvergenceWarning: Solver terminated early (max_iter=5000).  Consider pre-processing your data with StandardScaler or MinMaxScaler.\n",
      "  warnings.warn('Solver terminated early (max_iter=%i).'\n"
     ]
    },
    {
     "name": "stdout",
     "output_type": "stream",
     "text": [
      "[CV 2/5] END ...............C=100, gamma=0.0001;, score=0.481 total time=   0.0s\n",
      "[CV 3/5] END ...............C=100, gamma=0.0001;, score=0.338 total time=   0.0s\n",
      "[CV 4/5] END ...............C=100, gamma=0.0001;, score=0.400 total time=   0.0s\n",
      "[CV 5/5] END ...............C=100, gamma=0.0001;, score=0.306 total time=   0.0s\n"
     ]
    },
    {
     "name": "stderr",
     "output_type": "stream",
     "text": [
      "C:\\Users\\bumin\\anaconda3\\lib\\site-packages\\sklearn\\svm\\_base.py:255: ConvergenceWarning: Solver terminated early (max_iter=5000).  Consider pre-processing your data with StandardScaler or MinMaxScaler.\n",
      "  warnings.warn('Solver terminated early (max_iter=%i).'\n",
      "C:\\Users\\bumin\\anaconda3\\lib\\site-packages\\sklearn\\svm\\_base.py:255: ConvergenceWarning: Solver terminated early (max_iter=5000).  Consider pre-processing your data with StandardScaler or MinMaxScaler.\n",
      "  warnings.warn('Solver terminated early (max_iter=%i).'\n",
      "C:\\Users\\bumin\\anaconda3\\lib\\site-packages\\sklearn\\svm\\_base.py:255: ConvergenceWarning: Solver terminated early (max_iter=5000).  Consider pre-processing your data with StandardScaler or MinMaxScaler.\n",
      "  warnings.warn('Solver terminated early (max_iter=%i).'\n",
      "C:\\Users\\bumin\\anaconda3\\lib\\site-packages\\sklearn\\svm\\_base.py:255: ConvergenceWarning: Solver terminated early (max_iter=5000).  Consider pre-processing your data with StandardScaler or MinMaxScaler.\n",
      "  warnings.warn('Solver terminated early (max_iter=%i).'\n"
     ]
    },
    {
     "name": "stdout",
     "output_type": "stream",
     "text": [
      "[CV 1/5] END ...................C=1000, gamma=1;, score=0.394 total time=   0.0s\n",
      "[CV 2/5] END ...................C=1000, gamma=1;, score=0.481 total time=   0.0s\n",
      "[CV 3/5] END ...................C=1000, gamma=1;, score=0.338 total time=   0.0s\n",
      "[CV 4/5] END ...................C=1000, gamma=1;, score=0.400 total time=   0.0s\n"
     ]
    },
    {
     "name": "stderr",
     "output_type": "stream",
     "text": [
      "C:\\Users\\bumin\\anaconda3\\lib\\site-packages\\sklearn\\svm\\_base.py:255: ConvergenceWarning: Solver terminated early (max_iter=5000).  Consider pre-processing your data with StandardScaler or MinMaxScaler.\n",
      "  warnings.warn('Solver terminated early (max_iter=%i).'\n",
      "C:\\Users\\bumin\\anaconda3\\lib\\site-packages\\sklearn\\svm\\_base.py:255: ConvergenceWarning: Solver terminated early (max_iter=5000).  Consider pre-processing your data with StandardScaler or MinMaxScaler.\n",
      "  warnings.warn('Solver terminated early (max_iter=%i).'\n",
      "C:\\Users\\bumin\\anaconda3\\lib\\site-packages\\sklearn\\svm\\_base.py:255: ConvergenceWarning: Solver terminated early (max_iter=5000).  Consider pre-processing your data with StandardScaler or MinMaxScaler.\n",
      "  warnings.warn('Solver terminated early (max_iter=%i).'\n",
      "C:\\Users\\bumin\\anaconda3\\lib\\site-packages\\sklearn\\svm\\_base.py:255: ConvergenceWarning: Solver terminated early (max_iter=5000).  Consider pre-processing your data with StandardScaler or MinMaxScaler.\n",
      "  warnings.warn('Solver terminated early (max_iter=%i).'\n"
     ]
    },
    {
     "name": "stdout",
     "output_type": "stream",
     "text": [
      "[CV 5/5] END ...................C=1000, gamma=1;, score=0.306 total time=   0.0s\n",
      "[CV 1/5] END .................C=1000, gamma=0.1;, score=0.394 total time=   0.0s\n",
      "[CV 2/5] END .................C=1000, gamma=0.1;, score=0.481 total time=   0.0s\n",
      "[CV 3/5] END .................C=1000, gamma=0.1;, score=0.338 total time=   0.0s\n"
     ]
    },
    {
     "name": "stderr",
     "output_type": "stream",
     "text": [
      "C:\\Users\\bumin\\anaconda3\\lib\\site-packages\\sklearn\\svm\\_base.py:255: ConvergenceWarning: Solver terminated early (max_iter=5000).  Consider pre-processing your data with StandardScaler or MinMaxScaler.\n",
      "  warnings.warn('Solver terminated early (max_iter=%i).'\n",
      "C:\\Users\\bumin\\anaconda3\\lib\\site-packages\\sklearn\\svm\\_base.py:255: ConvergenceWarning: Solver terminated early (max_iter=5000).  Consider pre-processing your data with StandardScaler or MinMaxScaler.\n",
      "  warnings.warn('Solver terminated early (max_iter=%i).'\n",
      "C:\\Users\\bumin\\anaconda3\\lib\\site-packages\\sklearn\\svm\\_base.py:255: ConvergenceWarning: Solver terminated early (max_iter=5000).  Consider pre-processing your data with StandardScaler or MinMaxScaler.\n",
      "  warnings.warn('Solver terminated early (max_iter=%i).'\n",
      "C:\\Users\\bumin\\anaconda3\\lib\\site-packages\\sklearn\\svm\\_base.py:255: ConvergenceWarning: Solver terminated early (max_iter=5000).  Consider pre-processing your data with StandardScaler or MinMaxScaler.\n",
      "  warnings.warn('Solver terminated early (max_iter=%i).'\n"
     ]
    },
    {
     "name": "stdout",
     "output_type": "stream",
     "text": [
      "[CV 4/5] END .................C=1000, gamma=0.1;, score=0.400 total time=   0.0s\n",
      "[CV 5/5] END .................C=1000, gamma=0.1;, score=0.306 total time=   0.0s\n",
      "[CV 1/5] END ................C=1000, gamma=0.01;, score=0.394 total time=   0.0s\n",
      "[CV 2/5] END ................C=1000, gamma=0.01;, score=0.481 total time=   0.0s\n"
     ]
    },
    {
     "name": "stderr",
     "output_type": "stream",
     "text": [
      "C:\\Users\\bumin\\anaconda3\\lib\\site-packages\\sklearn\\svm\\_base.py:255: ConvergenceWarning: Solver terminated early (max_iter=5000).  Consider pre-processing your data with StandardScaler or MinMaxScaler.\n",
      "  warnings.warn('Solver terminated early (max_iter=%i).'\n",
      "C:\\Users\\bumin\\anaconda3\\lib\\site-packages\\sklearn\\svm\\_base.py:255: ConvergenceWarning: Solver terminated early (max_iter=5000).  Consider pre-processing your data with StandardScaler or MinMaxScaler.\n",
      "  warnings.warn('Solver terminated early (max_iter=%i).'\n",
      "C:\\Users\\bumin\\anaconda3\\lib\\site-packages\\sklearn\\svm\\_base.py:255: ConvergenceWarning: Solver terminated early (max_iter=5000).  Consider pre-processing your data with StandardScaler or MinMaxScaler.\n",
      "  warnings.warn('Solver terminated early (max_iter=%i).'\n",
      "C:\\Users\\bumin\\anaconda3\\lib\\site-packages\\sklearn\\svm\\_base.py:255: ConvergenceWarning: Solver terminated early (max_iter=5000).  Consider pre-processing your data with StandardScaler or MinMaxScaler.\n",
      "  warnings.warn('Solver terminated early (max_iter=%i).'\n"
     ]
    },
    {
     "name": "stdout",
     "output_type": "stream",
     "text": [
      "[CV 3/5] END ................C=1000, gamma=0.01;, score=0.338 total time=   0.0s\n",
      "[CV 4/5] END ................C=1000, gamma=0.01;, score=0.400 total time=   0.0s\n",
      "[CV 5/5] END ................C=1000, gamma=0.01;, score=0.306 total time=   0.0s\n",
      "[CV 1/5] END ...............C=1000, gamma=0.001;, score=0.394 total time=   0.0s\n"
     ]
    },
    {
     "name": "stderr",
     "output_type": "stream",
     "text": [
      "C:\\Users\\bumin\\anaconda3\\lib\\site-packages\\sklearn\\svm\\_base.py:255: ConvergenceWarning: Solver terminated early (max_iter=5000).  Consider pre-processing your data with StandardScaler or MinMaxScaler.\n",
      "  warnings.warn('Solver terminated early (max_iter=%i).'\n",
      "C:\\Users\\bumin\\anaconda3\\lib\\site-packages\\sklearn\\svm\\_base.py:255: ConvergenceWarning: Solver terminated early (max_iter=5000).  Consider pre-processing your data with StandardScaler or MinMaxScaler.\n",
      "  warnings.warn('Solver terminated early (max_iter=%i).'\n",
      "C:\\Users\\bumin\\anaconda3\\lib\\site-packages\\sklearn\\svm\\_base.py:255: ConvergenceWarning: Solver terminated early (max_iter=5000).  Consider pre-processing your data with StandardScaler or MinMaxScaler.\n",
      "  warnings.warn('Solver terminated early (max_iter=%i).'\n",
      "C:\\Users\\bumin\\anaconda3\\lib\\site-packages\\sklearn\\svm\\_base.py:255: ConvergenceWarning: Solver terminated early (max_iter=5000).  Consider pre-processing your data with StandardScaler or MinMaxScaler.\n",
      "  warnings.warn('Solver terminated early (max_iter=%i).'\n"
     ]
    },
    {
     "name": "stdout",
     "output_type": "stream",
     "text": [
      "[CV 2/5] END ...............C=1000, gamma=0.001;, score=0.481 total time=   0.0s\n",
      "[CV 3/5] END ...............C=1000, gamma=0.001;, score=0.338 total time=   0.0s\n",
      "[CV 4/5] END ...............C=1000, gamma=0.001;, score=0.400 total time=   0.0s\n",
      "[CV 5/5] END ...............C=1000, gamma=0.001;, score=0.306 total time=   0.0s\n"
     ]
    },
    {
     "name": "stderr",
     "output_type": "stream",
     "text": [
      "C:\\Users\\bumin\\anaconda3\\lib\\site-packages\\sklearn\\svm\\_base.py:255: ConvergenceWarning: Solver terminated early (max_iter=5000).  Consider pre-processing your data with StandardScaler or MinMaxScaler.\n",
      "  warnings.warn('Solver terminated early (max_iter=%i).'\n",
      "C:\\Users\\bumin\\anaconda3\\lib\\site-packages\\sklearn\\svm\\_base.py:255: ConvergenceWarning: Solver terminated early (max_iter=5000).  Consider pre-processing your data with StandardScaler or MinMaxScaler.\n",
      "  warnings.warn('Solver terminated early (max_iter=%i).'\n",
      "C:\\Users\\bumin\\anaconda3\\lib\\site-packages\\sklearn\\svm\\_base.py:255: ConvergenceWarning: Solver terminated early (max_iter=5000).  Consider pre-processing your data with StandardScaler or MinMaxScaler.\n",
      "  warnings.warn('Solver terminated early (max_iter=%i).'\n",
      "C:\\Users\\bumin\\anaconda3\\lib\\site-packages\\sklearn\\svm\\_base.py:255: ConvergenceWarning: Solver terminated early (max_iter=5000).  Consider pre-processing your data with StandardScaler or MinMaxScaler.\n",
      "  warnings.warn('Solver terminated early (max_iter=%i).'\n"
     ]
    },
    {
     "name": "stdout",
     "output_type": "stream",
     "text": [
      "[CV 1/5] END ..............C=1000, gamma=0.0001;, score=0.394 total time=   0.0s\n",
      "[CV 2/5] END ..............C=1000, gamma=0.0001;, score=0.481 total time=   0.0s\n",
      "[CV 3/5] END ..............C=1000, gamma=0.0001;, score=0.338 total time=   0.0s\n",
      "[CV 4/5] END ..............C=1000, gamma=0.0001;, score=0.400 total time=   0.0s\n",
      "[CV 5/5] END ..............C=1000, gamma=0.0001;, score=0.306 total time=   0.0s\n"
     ]
    },
    {
     "name": "stderr",
     "output_type": "stream",
     "text": [
      "C:\\Users\\bumin\\anaconda3\\lib\\site-packages\\sklearn\\svm\\_base.py:255: ConvergenceWarning: Solver terminated early (max_iter=5000).  Consider pre-processing your data with StandardScaler or MinMaxScaler.\n",
      "  warnings.warn('Solver terminated early (max_iter=%i).'\n",
      "C:\\Users\\bumin\\anaconda3\\lib\\site-packages\\sklearn\\svm\\_base.py:255: ConvergenceWarning: Solver terminated early (max_iter=5000).  Consider pre-processing your data with StandardScaler or MinMaxScaler.\n",
      "  warnings.warn('Solver terminated early (max_iter=%i).'\n"
     ]
    },
    {
     "data": {
      "text/plain": [
       "GridSearchCV(cv=5,\n",
       "             estimator=SVC(kernel='linear', max_iter=5000, random_state=0),\n",
       "             param_grid={'C': [0.1, 1, 10, 100, 1000],\n",
       "                         'gamma': [1, 0.1, 0.01, 0.001, 0.0001]},\n",
       "             scoring='accuracy', verbose=3)"
      ]
     },
     "execution_count": 22,
     "metadata": {},
     "output_type": "execute_result"
    }
   ],
   "source": [
    "from sklearn.model_selection import GridSearchCV\n",
    "from sklearn.svm import SVC\n",
    "from sklearn.preprocessing import StandardScaler\n",
    "\n",
    "mach = SVC(max_iter = 5000, random_state=0, kernel = \"linear\")\n",
    "\n",
    "# defining parameter range for our algorithm\n",
    "\n",
    "param_grid = {'C': [0.1, 1, 10, 100, 1000],\n",
    "              'gamma': [1, 0.1, 0.01, 0.001, 0.0001],\n",
    "             }\n",
    "\n",
    "#mach_grid = RandomizedSearchCV(estimator = rf,param_distributions = param_grid,\n",
    "               #n_iter = 100, cv = 5, verbose=2, scoring = \"accuracy\", random_state=0, n_jobs = -1)\n",
    "    \n",
    "#The total space of parameters 25 is smaller than n_iter=100. Therefore, I used GridSearchCV for this exhaustive search\n",
    "\n",
    "mach_grid = GridSearchCV(mach, param_grid, cv = 5, refit = True, scoring = \"accuracy\", verbose = 3)\n",
    " \n",
    "# Scaling the data and fitting the model for grid search. I tried not scaling but it gives off worse results than my random try.\n",
    "# Thus, I decided to scale the data.\n",
    "\n",
    "sc = StandardScaler()\n",
    "x_train = sc.fit_transform(x_train)\n",
    "mach_grid.fit(x_train, y_train)"
   ]
  },
  {
   "cell_type": "code",
   "execution_count": 23,
   "id": "0d1b6faa",
   "metadata": {},
   "outputs": [
    {
     "name": "stdout",
     "output_type": "stream",
     "text": [
      "Best Parameters for support vector classifier:  {'C': 0.1, 'gamma': 1}\n"
     ]
    }
   ],
   "source": [
    "# print best parameter after tuning\n",
    "print ('Best Parameters for support vector classifier: ', mach_grid.best_params_)\n",
    " "
   ]
  },
  {
   "cell_type": "code",
   "execution_count": 24,
   "id": "136bed58",
   "metadata": {},
   "outputs": [
    {
     "name": "stdout",
     "output_type": "stream",
     "text": [
      "0.705\n",
      "              precision    recall  f1-score   support\n",
      "\n",
      "         0.0       0.69      0.83      0.76        71\n",
      "         1.0       0.75      0.60      0.67        67\n",
      "         2.0       0.68      0.68      0.68        62\n",
      "\n",
      "    accuracy                           0.70       200\n",
      "   macro avg       0.71      0.70      0.70       200\n",
      "weighted avg       0.71      0.70      0.70       200\n",
      "\n"
     ]
    }
   ],
   "source": [
    "mach_optimal = SVC(max_iter = 5000, C = 0.1, gamma = 1, random_state=0, kernel = 'linear')\n",
    "\n",
    "sc = StandardScaler()\n",
    "x_train = sc.fit_transform(x_train)\n",
    "\n",
    "mach_optimal.fit(x_train, y_train)\n",
    "x_test = sc.transform (x_test)\n",
    "y_pred = mach_optimal.predict(x_test)\n",
    " \n",
    "# print classification report and accuracy\n",
    "print(metrics.accuracy_score(y_test, y_pred))\n",
    "print(classification_report(y_test, y_pred))      # We see that the optimization algorithm has provided us with a\n",
    "                                                 #(0.705-0.635)/0.635 = 11.02 % of improvement with respect to random paramters."
   ]
  },
  {
   "cell_type": "code",
   "execution_count": 25,
   "id": "75586f55",
   "metadata": {
    "scrolled": true
   },
   "outputs": [
    {
     "name": "stdout",
     "output_type": "stream",
     "text": [
      "--- 40.07442665100098 seconds ---\n"
     ]
    }
   ],
   "source": [
    "print(\"--- %s seconds ---\" % (time.time() - start_time))  # I also added this in order to see how long it takes for \n",
    "                                                          # my algorihthm to complete which turned out to be 43.01 seconds."
   ]
  },
  {
   "cell_type": "markdown",
   "id": "fb2c2dbd",
   "metadata": {},
   "source": [
    "## IN CONCLUSION:\n",
    "I have implemented gridsearchcv to my SVM model, and randomizedsearchcv to my Random Forest model just because I found the respective algorithms easier to implement. \n",
    "At the end of my code, I have seen that my optimized random forest model performs much better ((0.845-0.705)/0.705 = %19.85) than the optimized support vector machine model. \n",
    "Therefore, it is safe to say that random forest is preferable to use svm in my case. Additonally, after carefully implementation of RandomizedSearchCV for the search of the optimal parameters, I found {'n_estimators': 99, 'min_samples_split': 4, 'min_samples_leaf': 1, 'max_features': 'auto', 'max_depth': 100, 'bootstrap': False} as the optimal parameters of the random forest algorithm."
   ]
  }
 ],
 "metadata": {
  "kernelspec": {
   "display_name": "Python 3 (ipykernel)",
   "language": "python",
   "name": "python3"
  },
  "language_info": {
   "codemirror_mode": {
    "name": "ipython",
    "version": 3
   },
   "file_extension": ".py",
   "mimetype": "text/x-python",
   "name": "python",
   "nbconvert_exporter": "python",
   "pygments_lexer": "ipython3",
   "version": "3.9.7"
  }
 },
 "nbformat": 4,
 "nbformat_minor": 5
}
